{
 "cells": [
  {
   "cell_type": "markdown",
   "metadata": {},
   "source": [
    "## 3.1 \n",
    "\n",
    "At this point, you understand the data well. For your group proposed project, you must\n",
    "explore some aspects of machine learning models. You must use the dataset given but\n",
    "you may use additional datasets to supplement your analysis (e.g., weather data), look\n",
    "at unaggregated data, look at the difference in carpark availability for carparks with free\n",
    "parking, etc. Note that you are not limited to the initial proposal and are free to expand\n",
    "on it."
   ]
  },
  {
   "cell_type": "markdown",
   "metadata": {},
   "source": [
    "## 3.2\n",
    "\n",
    "Based on the insights derived from the analysis, suggest a practical action that can be\n",
    "taken in approximately 200 words (i.e., an action that can be taken to benefit society.\n",
    "Do not suggest actions such as hyperparameter tuning here). You do not need to carry\n",
    "out the action. A simple example is, if the team had made models to predict carpark\n",
    "availability of individual carparks in Q3.1, then these models can be used to develop\n",
    "an application to the public that forecasts carpark availability to reduce congestion in\n",
    "carparks during peak hours."
   ]
  },
  {
   "cell_type": "code",
   "execution_count": null,
   "metadata": {},
   "outputs": [],
   "source": [
    "import pandas \n",
    "import matplotlib as plt \n",
    "import numpy \n",
    "import requests\n",
    "\n",
    "\n",
    "#get the weatherdata and traffic data from the LTA DataMall API \n",
    "#Run the code the \n",
    "\n",
    "weatherData = \n"
   ]
  }
 ],
 "metadata": {
  "kernelspec": {
   "display_name": "Python 3",
   "language": "python",
   "name": "python3"
  },
  "language_info": {
   "name": "python",
   "version": "3.11.7"
  }
 },
 "nbformat": 4,
 "nbformat_minor": 2
}
