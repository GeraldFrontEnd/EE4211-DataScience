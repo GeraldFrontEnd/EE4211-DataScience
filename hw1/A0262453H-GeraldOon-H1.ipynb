{
  "nbformat": 4,
  "nbformat_minor": 0,
  "metadata": {
    "colab": {
      "provenance": []
    },
    "kernelspec": {
      "name": "python3",
      "display_name": "Python 3"
    },
    "language_info": {
      "name": "python"
    }
  },
  "cells": [
    {
      "cell_type": "code",
      "source": [
        "#This python code is used to remove vowels in a sentence\"\"\n",
        "#fruits = [\"apple\", \"banana\", \"cherry\", \"kiwi\", \"mango\"]\n",
        "def removeVowels():\n",
        "  examplesentence = \"The quick brown fox jumps over the lazy dog\"\n",
        "  vowelstoRemove = 'aeiouAEIOU'\n",
        "  newSentence = \" \".join([vowel for vowel in examplesentence if vowel not in vowelstoRemove])\n",
        "  print(newSentence)\n",
        "\n",
        "\n",
        "removeVowels()\n",
        "\n"
      ],
      "metadata": {
        "colab": {
          "base_uri": "https://localhost:8080/",
          "height": 0
        },
        "id": "jWfgjIpgtZV4",
        "outputId": "2d91c9ef-bebb-4b7e-9d31-7365b5e1a6c7"
      },
      "execution_count": 10,
      "outputs": [
        {
          "output_type": "stream",
          "name": "stdout",
          "text": [
            "T h   q c k   b r w n   f x   j m p s   v r   t h   l z y   d g\n"
          ]
        }
      ]
    }
  ]
}