{
  "nbformat": 4,
  "nbformat_minor": 0,
  "metadata": {
    "colab": {
      "provenance": []
    },
    "kernelspec": {
      "name": "python3",
      "display_name": "Python 3"
    },
    "language_info": {
      "name": "python"
    }
  },
  "cells": [
    {
      "cell_type": "code",
      "execution_count": 9,
      "metadata": {
        "id": "mzoh8feG5801",
        "colab": {
          "base_uri": "https://localhost:8080/",
          "height": 0
        },
        "outputId": "5e0259c3-b583-4621-aaa0-8be5c8533e1c"
      },
      "outputs": [
        {
          "output_type": "stream",
          "name": "stdout",
          "text": [
            "DT1 (IG):  [1.         0.92748538 0.91554468 0.89219763]\n",
            "DT2 (IG with limited size):  [0.98366834 0.92923977 0.91996553 0.89221434]\n"
          ]
        }
      ],
      "source": [
        "#SVM - Decision Trees Program\n",
        "#A0262453H Homework 2(SVM)\n",
        "#Application - Questions\n",
        "import pandas as pd\n",
        "from sklearn.model_selection import train_test_split\n",
        "from sklearn.tree import DecisionTreeClassifier\n",
        "from sklearn.metrics import accuracy_score, precision_score, recall_score\n",
        "import numpy as np\n",
        "\n",
        "# Load dataset\n",
        "url = \"https://archive.ics.uci.edu/ml/machine-learning-databases/breast-cancer-wisconsin/wdbc.data\"\n",
        "data = pd.read_csv(url, header=None)\n",
        "\n",
        "# Preprocessing\n",
        "X = data.iloc[:, 2:].values\n",
        "y = data.iloc[:, 1].apply(lambda x: 1 if x == 'M' else 0).values\n",
        "\n",
        "# Initialize arrays to store results\n",
        "results_dt1 = []\n",
        "results_dt2 = []\n",
        "\n",
        "# Repeat the process 20 times\n",
        "for _ in range(20):\n",
        "    # Split the data\n",
        "    X_train, X_test, y_train, y_test = train_test_split(X, y, test_size=0.3, random_state=None)\n",
        "\n",
        "    # Train DT1\n",
        "    dt1 = DecisionTreeClassifier(criterion='entropy')\n",
        "    dt1.fit(X_train, y_train)\n",
        "    y_train_pred_dt1 = dt1.predict(X_train)\n",
        "    y_test_pred_dt1 = dt1.predict(X_test)\n",
        "\n",
        "    # Evaluate DT1\n",
        "    acc_train_dt1 = accuracy_score(y_train, y_train_pred_dt1)\n",
        "    acc_test_dt1 = accuracy_score(y_test, y_test_pred_dt1)\n",
        "    prec_dt1 = precision_score(y_test, y_test_pred_dt1)\n",
        "    recall_dt1 = recall_score(y_test, y_test_pred_dt1)\n",
        "    results_dt1.append([acc_train_dt1, acc_test_dt1, prec_dt1, recall_dt1])\n",
        "\n",
        "    # Train DT2 with a limited tree size\n",
        "    dt2 = DecisionTreeClassifier(criterion='entropy', max_depth=4) # Example of limited tree depth\n",
        "    dt2.fit(X_train, y_train)\n",
        "    y_train_pred_dt2 = dt2.predict(X_train)\n",
        "    y_test_pred_dt2 = dt2.predict(X_test)\n",
        "\n",
        "    # Evaluate DT2\n",
        "    acc_train_dt2 = accuracy_score(y_train, y_train_pred_dt2)\n",
        "    acc_test_dt2 = accuracy_score(y_test, y_test_pred_dt2)\n",
        "    prec_dt2 = precision_score(y_test, y_test_pred_dt2)\n",
        "    recall_dt2 = recall_score(y_test, y_test_pred_dt2)\n",
        "    results_dt2.append([acc_train_dt2, acc_test_dt2, prec_dt2, recall_dt2])\n",
        "\n",
        "# Compute average results\n",
        "avg_results_dt1 = np.mean(results_dt1, axis=0)\n",
        "avg_results_dt2 = np.mean(results_dt2, axis=0)\n",
        "\n",
        "print(\"DT1 (IG): \", avg_results_dt1)\n",
        "print(\"DT2 (IG with limited size): \", avg_results_dt2)\n",
        "\n"
      ]
    }
  ]
}